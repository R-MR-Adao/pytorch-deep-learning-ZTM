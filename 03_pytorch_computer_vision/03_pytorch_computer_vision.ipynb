{
 "cells": [
  {
   "cell_type": "markdown",
   "metadata": {},
   "source": [
    "# 03. PyTorch Computer Vision\n",
    "\n",
    "**Reference**\n",
    "[pytorch-deep-learning](https://github.com/mrdbourke/pytorch-deep-learning/tree/main/docs) repo by Daniel Bourke\n",
    "\n",
    "**What is a computer vision problem?**: Anything that you can see\n",
    " - Binary classification problem (distinguishing images from two classes)\n",
    " - Multi-class classification problem (distinguishing images form among multiple classes)\n",
    " - Object detection (find a target object within an image)\n",
    " - Image segmentation (split an image into multiple context segments that make up an image)\n",
    " - Environmental modelling/perception (e.g. for self-driven automobiles)\n",
    "\n",
    "**Items covered in this section**\n",
    "\n",
    "![](./screenshots/1_topics_covered_computer_vision_module.png)\n",
    "\n",
    "**Inputs and outputs of a computer vision algorithm**\n",
    "\n",
    "![](./screenshots/2_Compter_vision_inputs_and_outputs.png)\n",
    "\n",
    "**Input and output shapes** (for a classification example)\n",
    "\n",
    " - **Input:** `[batch_size, height, width, color_channels]`\n",
    " - **Output:** `[number_of_classes]`\n",
    "\n",
    "This can be done according to various conventions:\n",
    "\n",
    " - **NHWC:** `[batch_size, height, width, color_channels]`\n",
    " - **NCHW** `[batch_size, color_channels, height, width]`\n",
    "\n",
    "One needs to keep in mind that data from different sources can be shaped differently, which needs to be taken into account in the data preparation code.\n",
    "\n",
    "![](./screenshots/3_Input_and_output_shapes.png)\n",
    "\n",
    "**PyTorch workflow**\n",
    "\n",
    "![](./screenshots/4_PyTorch_workflow.png)\n",
    "\n",
    "## Convolution Neural Networks (CNN)\n",
    "\n",
    "**Architecture of a CNN**\n",
    "![](./screenshots/5_CNN_Architecture.png)\n"
   ]
  },
  {
   "cell_type": "markdown",
   "metadata": {},
   "source": [
    "## .0 Computer vision libraries in PyTorch\n",
    "\n",
    " - `torchvision` - base domain library for computer vision ([doc](https://pytorch.org/vision/stable/index.html))\n",
    " - `torchvision.datasets` - datasets and data-loading functions for computer vision\n",
    " - `torchvision.models` - Pre-trained computer vision models that one can tune for other problems\n",
    " - `torchvision.transforms` - Functions for manipulating images and data to make it suitable machine learning usage\n",
    " - `torch.utils.data.Dataset` - Base dataset class from Pytroch\n",
    " - `torch.utils.data.DataLoader` - Creates a Python iterable over a dataset"
   ]
  },
  {
   "cell_type": "code",
   "execution_count": 2,
   "metadata": {},
   "outputs": [
    {
     "name": "stdout",
     "output_type": "stream",
     "text": [
      "2.1.0+cpu\n",
      "0.16.0+cpu\n"
     ]
    }
   ],
   "source": [
    "# import the main libraries\n",
    "\n",
    "# import PyTorch\n",
    "import torch\n",
    "from torch import nn\n",
    "\n",
    "# import torchvision\n",
    "import torchvision\n",
    "from torchvision import datasets\n",
    "from torchvision import transforms\n",
    "from torchvision.transforms import  ToTensor\n",
    "\n",
    "# import matplolib\n",
    "import matplotlib.pyplot as plt\n",
    "\n",
    "print(torch.__version__)\n",
    "print(torchvision.__version__)"
   ]
  },
  {
   "cell_type": "markdown",
   "metadata": {},
   "source": [
    "## 1. Getting a dataset\n",
    "\n",
    "The dataset used in this module is taken from [`Fashion-MNIST`](https://github.com/zalandoresearch/fashion-mnist)\n",
    "\n",
    "One option to download this dataset would be to get it directly from GitHub.\n",
    "However, one can get it directly through `PyTorch`, in particular from [`torchvision.datasets`](https://pytorch.org/vision/stable/generated/torchvision.datasets.FashionMNIST.html).\n",
    "\n",
    "Another popular dataset is [imagenet](https://www.image-net.org/), but it will not be part of this module."
   ]
  },
  {
   "cell_type": "code",
   "execution_count": 3,
   "metadata": {},
   "outputs": [
    {
     "name": "stdout",
     "output_type": "stream",
     "text": [
      "Downloading http://fashion-mnist.s3-website.eu-central-1.amazonaws.com/train-images-idx3-ubyte.gz\n",
      "Downloading http://fashion-mnist.s3-website.eu-central-1.amazonaws.com/train-images-idx3-ubyte.gz to data\\FashionMNIST\\raw\\train-images-idx3-ubyte.gz\n"
     ]
    },
    {
     "name": "stderr",
     "output_type": "stream",
     "text": [
      "100%|██████████| 26421880/26421880 [00:04<00:00, 6000881.38it/s]\n"
     ]
    },
    {
     "name": "stdout",
     "output_type": "stream",
     "text": [
      "Extracting data\\FashionMNIST\\raw\\train-images-idx3-ubyte.gz to data\\FashionMNIST\\raw\n",
      "\n",
      "Downloading http://fashion-mnist.s3-website.eu-central-1.amazonaws.com/train-labels-idx1-ubyte.gz\n",
      "Downloading http://fashion-mnist.s3-website.eu-central-1.amazonaws.com/train-labels-idx1-ubyte.gz to data\\FashionMNIST\\raw\\train-labels-idx1-ubyte.gz\n"
     ]
    },
    {
     "name": "stderr",
     "output_type": "stream",
     "text": [
      "100%|██████████| 29515/29515 [00:00<00:00, 778966.30it/s]"
     ]
    },
    {
     "name": "stdout",
     "output_type": "stream",
     "text": [
      "Extracting data\\FashionMNIST\\raw\\train-labels-idx1-ubyte.gz to data\\FashionMNIST\\raw\n",
      "\n",
      "Downloading http://fashion-mnist.s3-website.eu-central-1.amazonaws.com/t10k-images-idx3-ubyte.gz\n"
     ]
    },
    {
     "name": "stderr",
     "output_type": "stream",
     "text": [
      "\n"
     ]
    },
    {
     "name": "stdout",
     "output_type": "stream",
     "text": [
      "Downloading http://fashion-mnist.s3-website.eu-central-1.amazonaws.com/t10k-images-idx3-ubyte.gz to data\\FashionMNIST\\raw\\t10k-images-idx3-ubyte.gz\n"
     ]
    },
    {
     "name": "stderr",
     "output_type": "stream",
     "text": [
      "100%|██████████| 4422102/4422102 [00:00<00:00, 5403654.88it/s]\n"
     ]
    },
    {
     "name": "stdout",
     "output_type": "stream",
     "text": [
      "Extracting data\\FashionMNIST\\raw\\t10k-images-idx3-ubyte.gz to data\\FashionMNIST\\raw\n",
      "\n",
      "Downloading http://fashion-mnist.s3-website.eu-central-1.amazonaws.com/t10k-labels-idx1-ubyte.gz\n",
      "Downloading http://fashion-mnist.s3-website.eu-central-1.amazonaws.com/t10k-labels-idx1-ubyte.gz to data\\FashionMNIST\\raw\\t10k-labels-idx1-ubyte.gz\n"
     ]
    },
    {
     "name": "stderr",
     "output_type": "stream",
     "text": [
      "100%|██████████| 5148/5148 [00:00<00:00, 2585901.44it/s]\n"
     ]
    },
    {
     "name": "stdout",
     "output_type": "stream",
     "text": [
      "Extracting data\\FashionMNIST\\raw\\t10k-labels-idx1-ubyte.gz to data\\FashionMNIST\\raw\n",
      "\n"
     ]
    }
   ],
   "source": [
    "# Setup training data\n",
    "get_fashionMNIST = lambda train: datasets.FashionMNIST( # FashionMNIST dataset getter function\n",
    "    root=\"data\",                                        # where to download the data to\n",
    "    train=train,                                        # get the pre-defined dataset\n",
    "    download=True,                                      # download the data\n",
    "    transform=ToTensor(),                               # transformation performed on data\n",
    "    target_transform=None                               # transformation done on the target (labels)\n",
    ")\n",
    "\n",
    "train_data = get_fashionMNIST(True)\n",
    "test_data = get_fashionMNIST(False)"
   ]
  },
  {
   "cell_type": "code",
   "execution_count": 4,
   "metadata": {},
   "outputs": [
    {
     "data": {
      "text/plain": [
       "(60000, 10000)"
      ]
     },
     "execution_count": 4,
     "metadata": {},
     "output_type": "execute_result"
    }
   ],
   "source": [
    "len(train_data), len(test_data)"
   ]
  },
  {
   "cell_type": "code",
   "execution_count": 39,
   "metadata": {},
   "outputs": [
    {
     "name": "stdout",
     "output_type": "stream",
     "text": [
      "torch.Size([1, 28, 28]) 9\n",
      "['T-shirt/top', 'Trouser', 'Pullover', 'Dress', 'Coat', 'Sandal', 'Shirt', 'Sneaker', 'Bag', 'Ankle boot']\n"
     ]
    },
    {
     "data": {
      "text/plain": [
       "Text(0.5, 1.0, 'An Ankle boot!')"
      ]
     },
     "execution_count": 39,
     "metadata": {},
     "output_type": "execute_result"
    },
    {
     "data": {
      "image/png": "[encoded data removed]",
      "text/plain": [
       "<Figure size 200x200 with 1 Axes>"
      ]
     },
     "metadata": {},
     "output_type": "display_data"
    }
   ],
   "source": [
    "# visualizing the downloaded data\n",
    "image, label = train_data[0]                            # extract a the first entry in the dataset\n",
    "print(image.shape, label)                               # print out their shape\n",
    "\n",
    "class_names = train_data.classes                        # extract classes ground truth\n",
    "print(class_names)\n",
    "\n",
    "# visualize the first image\n",
    "plt.figure(figsize=(2,2))\n",
    "plt.imshow(image.permute([1,2,0]), cmap=\"Greys\")\n",
    "plt.axis(False)\n",
    "plt.title(f\"An {class_names[label]}!\")"
   ]
  },
  {
   "cell_type": "code",
   "execution_count": 33,
   "metadata": {},
   "outputs": [
    {
     "name": "stdout",
     "output_type": "stream",
     "text": [
      "{'T-shirt/top': 0, 'Trouser': 1, 'Pullover': 2, 'Dress': 3, 'Coat': 4, 'Sandal': 5, 'Shirt': 6, 'Sneaker': 7, 'Bag': 8, 'Ankle boot': 9}\n"
     ]
    },
    {
     "data": {
      "text/plain": [
       "(torch.Size([60000, 28, 28]), torch.Size([60000]))"
      ]
     },
     "execution_count": 33,
     "metadata": {},
     "output_type": "execute_result"
    }
   ],
   "source": [
    "# some other nice-to-know-abouts\n",
    "class_to_idx = train_data.class_to_idx                  # dict to get the index of a given class\n",
    "print(class_to_idx)\n",
    "\n",
    "train_data.data.shape, train_data.targets.shape"
   ]
  },
  {
   "cell_type": "markdown",
   "metadata": {},
   "source": [
    "### 1.2 Visualizing the downloaded data"
   ]
  },
  {
   "cell_type": "code",
   "execution_count": 38,
   "metadata": {},
   "outputs": [
    {
     "name": "stdout",
     "output_type": "stream",
     "text": [
      "Image shape: torch.Size([1, 28, 28])\n"
     ]
    },
    {
     "data": {
      "text/plain": [
       "(-0.5, 27.5, 27.5, -0.5)"
      ]
     },
     "execution_count": 38,
     "metadata": {},
     "output_type": "execute_result"
    },
    {
     "data": {
      "image/png": "[encoded data removed]",
      "text/plain": [
       "<Figure size 640x480 with 1 Axes>"
      ]
     },
     "metadata": {},
     "output_type": "display_data"
    }
   ],
   "source": [
    "print(f\"Image shape: {image.shape}\")\n",
    "\n",
    "# represent as image (this time as performed by Daniel in the video)\n",
    "plt.imshow(image.squeeze(), cmap=\"gray\")\n",
    "plt.title(class_names[label])\n",
    "plt.axis(False)"
   ]
  },
  {
   "cell_type": "code",
   "execution_count": 43,
   "metadata": {},
   "outputs": [
    {
     "data": {
      "image/png": "[encoded data removed]",
      "text/plain": [
       "<Figure size 900x900 with 16 Axes>"
      ]
     },
     "metadata": {},
     "output_type": "display_data"
    }
   ],
   "source": [
    "# plot more images\n",
    "torch.manual_seed(42)\n",
    "\n",
    "fig = plt.figure(figsize=(9, 9))\n",
    "rows, cols = 4, 4\n",
    "\n",
    "for i in range(1, rows*cols + 1):\n",
    "    random_idx = torch.randint(0, len(train_data), size=[1]).item()\n",
    "    image, label = train_data[random_idx]\n",
    "\n",
    "    plt.subplot(rows, cols, i)\n",
    "    plt.imshow(image.squeeze(), cmap=\"Greys\")\n",
    "    plt.axis(False)\n",
    "    plt.title(class_names[label])\n",
    "\n",
    "# note: Chances are that some of the images in the dataset are quite similar,\n",
    "#       which will make it difficult for the algo to distinguish them"
   ]
  },
  {
   "cell_type": "markdown",
   "metadata": {},
   "source": [
    "**Note:**\n",
    "Images from clothing items are examples of a type of data which cannot be modeled by straight lines alone"
   ]
  },
  {
   "cell_type": "markdown",
   "metadata": {},
   "source": [
    "## 2. Prepare Dataloader\n",
    "\n",
    "Once downloaded, the data is in the form of a `PyTorch` Dataset.\n",
    "`DataLoader`turns the dataset into a Python iterable, more specifically, into batches.\n",
    "\n",
    "Why? Because one will not always look at the total amount of available data, especially during a prototyping phase.\n",
    "\n",
    "Therefore, `DataLoader` allows one to break down the total dataset into smaller, more manageable data batches.\n",
    "A common batch size to start with is 32.\n",
    "\n",
    "This way, the nn will have more changes of updating the gradients per epoch (this will become clearer later on)\n",
    "\n",
    "![](./screenshots/6_dataset_batching.png)"
   ]
  }
 ],
 "metadata": {
  "kernelspec": {
   "display_name": "Python 3",
   "language": "python",
   "name": "python3"
  },
  "language_info": {
   "codemirror_mode": {
    "name": "ipython",
    "version": 3
   },
   "file_extension": ".py",
   "mimetype": "text/x-python",
   "name": "python",
   "nbconvert_exporter": "python",
   "pygments_lexer": "ipython3",
   "version": "3.9.10"
  }
 },
 "nbformat": 4,
 "nbformat_minor": 2
}
