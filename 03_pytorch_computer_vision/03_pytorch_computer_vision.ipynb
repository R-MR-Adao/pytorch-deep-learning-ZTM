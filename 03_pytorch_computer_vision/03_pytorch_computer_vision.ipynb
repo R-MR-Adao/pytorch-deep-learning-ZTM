{
 "cells": [
  {
   "cell_type": "markdown",
   "metadata": {},
   "source": [
    "# 03. PyTorch Computer Vision\n",
    "\n",
    "**What is a computer vision problem?**: Anything that you can see\n",
    " - Binary classification problem (distinguishing images from two classes)\n",
    " - Multi-class classification problem (distinguishing images form among multiple classes)\n",
    " - Object detection (find a target object within an image)\n",
    " - Image segmentation (split an image into multiple context segments that make up an image)\n",
    " - Environmental modelling/perception (e.g. for self-driven automobiles)\n",
    "\n",
    "**Items covered in this section**\n",
    "\n",
    "![](./screenshots/1_topics_covered_computer_vision_module.png)\n",
    "\n",
    "**Inputs and outputs of a computer vision algorithm**\n",
    "\n",
    "![](./screenshots/2_Compter_vision_inputs_and_outputs.png)\n",
    "\n",
    "**Input and output shapes** (for a classification example)\n",
    "\n",
    " - **Input:** `[batch_size, height, width, color_channels]`\n",
    " - **Output:** `[number_of_classes]`\n",
    "\n",
    "This can be done according to various conventions:\n",
    "\n",
    " - **NHWC:** `[batch_size, height, width, color_channels]`\n",
    " - **NCHW** `[batch_size, color_channels, height, width]`\n",
    "\n",
    "One needs to keep in mind that data from different sources can be shaped differently, which needs to be taken into account in the data preparation code.\n",
    "\n",
    "![](./screenshots/3_Input_and_output_shapes.png)\n",
    "\n",
    "**PyTorch workflow**\n",
    "\n",
    "![](./screenshots/4_PyTorch_workflow.png)"
   ]
  }
 ],
 "metadata": {
  "language_info": {
   "name": "python"
  }
 },
 "nbformat": 4,
 "nbformat_minor": 2
}
